{
 "cells": [
  {
   "cell_type": "code",
   "execution_count": 1,
   "metadata": {},
   "outputs": [
    {
     "name": "stdout",
     "output_type": "stream",
     "text": [
      "6283.090017095715\n",
      "5967.63581987513\n",
      "5664.336010461755\n",
      "5375.955261858622\n",
      "5099.700679903945\n",
      "4838.82880001277\n",
      "4589.87899931607\n",
      "4353.221019369941\n",
      "4127.572992667325\n",
      "3913.969897587902\n",
      "3709.7072704604616\n",
      "3516.01176668902\n",
      "3331.6900927450733\n",
      "3157.2837656839715\n",
      "2991.460256308882\n",
      "2835.581291380755\n",
      "2687.686742238271\n",
      "2546.8291979057894\n",
      "2412.7490457063823\n",
      "2286.503402184998\n",
      "2168.8236835096995\n",
      "2057.2898911004595\n",
      "1951.6302051768416\n",
      "1852.5956808175765\n",
      "1761.7201779354361\n",
      "1676.997069035052\n",
      "1599.9595888051265\n",
      "1528.8772008496812\n",
      "1462.9241278295176\n",
      "1400.7439309972733\n",
      "1342.649740463221\n",
      "1287.852361977361\n",
      "1236.9106593440365\n",
      "1190.1272320726923\n",
      "1146.1112098384206\n",
      "1105.9949961277657\n",
      "1068.054223803737\n",
      "1033.0084243535139\n",
      "1000.3639064425174\n",
      "969.2624075072149\n",
      "939.7902058382178\n",
      "912.9748487104767\n",
      "888.6446440350007\n",
      "866.7159686444259\n",
      "847.2679105033383\n",
      "828.3763861889022\n",
      "811.0603771197882\n",
      "794.6375564739155\n",
      "778.9297576793181\n",
      "763.9297840614631\n"
     ]
    }
   ],
   "source": [
    "import numpy as np\n",
    "\n",
    "N, D_in, D_out = 640, 10, 1\n",
    "\n",
    "x = np.random.randn(N, D_in)\n",
    "y = np.random.randn(N, D_out)\n",
    "\n",
    "w = np.random.randn(D_in, D_out)\n",
    "learning_rate = 1e-3\n",
    "step = list()\n",
    "\n",
    "for t in range(50):\n",
    "    \n",
    "    # Forward pass\n",
    "    h = x.dot(w)\n",
    "    y_pred = np.maximum(h, 0)\n",
    "    \n",
    "    # Compute and print loss\n",
    "    loss = np.square(y_pred-y).sum()\n",
    "    step.append(loss)\n",
    "    print(loss)\n",
    "    \n",
    "    # Backward calc gradient\n",
    "    grad_y_pred = 2.0 * (y_pred - y)\n",
    "    grad_g_pred[grad_y_pred <= 0] = 0\n",
    "    grad_g_pred[grad_y_pred > 0] = 1\n",
    "    grad_w = x.T.dot(grad_y_pred*grad_g_pred)\n",
    "    \n",
    "    # Update parameters\n",
    "    w -= learning_rate * grad_w"
   ]
  },
  {
   "cell_type": "code",
   "execution_count": 2,
   "metadata": {},
   "outputs": [
    {
     "data": {
      "text/plain": [
       "[<matplotlib.lines.Line2D at 0x111b2a5c0>]"
      ]
     },
     "execution_count": 2,
     "metadata": {},
     "output_type": "execute_result"
    },
    {
     "data": {
      "image/png": "[encoded data removed]",
      "text/plain": [
       "<matplotlib.figure.Figure at 0x10a3aac18>"
      ]
     },
     "metadata": {},
     "output_type": "display_data"
    }
   ],
   "source": [
    "% matplotlib inline\n",
    "\n",
    "import matplotlib\n",
    "import matplotlib.pyplot as plt\n",
    "\n",
    "plt.plot(step)"
   ]
  },
  {
   "cell_type": "code",
   "execution_count": null,
   "metadata": {
    "collapsed": true
   },
   "outputs": [],
   "source": []
  }
 ],
 "metadata": {
  "anaconda-cloud": {},
  "kernelspec": {
   "display_name": "Python 3",
   "language": "python",
   "name": "python3"
  },
  "language_info": {
   "codemirror_mode": {
    "name": "ipython",
    "version": 3
   },
   "file_extension": ".py",
   "mimetype": "text/x-python",
   "name": "python",
   "nbconvert_exporter": "python",
   "pygments_lexer": "ipython3",
   "version": "3.6.5"
  }
 },
 "nbformat": 4,
 "nbformat_minor": 2
}
